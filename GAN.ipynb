{
  "nbformat": 4,
  "nbformat_minor": 0,
  "metadata": {
    "colab": {
      "name": "GAN.ipynb",
      "provenance": [],
      "collapsed_sections": [],
      "authorship_tag": "ABX9TyPS8bgBTWROCD4i9wg3Ej3n",
      "include_colab_link": true
    },
    "kernelspec": {
      "name": "python3",
      "display_name": "Python 3"
    },
    "accelerator": "GPU"
  },
  "cells": [
    {
      "cell_type": "markdown",
      "metadata": {
        "id": "view-in-github",
        "colab_type": "text"
      },
      "source": [
        "<a href=\"https://colab.research.google.com/github/nahumsa/GANs/blob/master/GAN.ipynb\" target=\"_parent\"><img src=\"https://colab.research.google.com/assets/colab-badge.svg\" alt=\"Open In Colab\"/></a>"
      ]
    },
    {
      "cell_type": "markdown",
      "metadata": {
        "id": "7iYnULPGOOJ4",
        "colab_type": "text"
      },
      "source": [
        "# Generative Adversarial Networks\n",
        "\n",
        "\n",
        "## Introduction\n",
        "\n",
        "This model was proposed on the [article](https://arxiv.org/abs/1406.2661) by Goodfellow et al. There are multiple awesome references for this subject, I will try to list some: [GAN Series](https://medium.com/@jonathan_hui/gan-gan-series-2d279f906e7b) by Jonathan Hui, [Generative Deep Learning](https://www.oreilly.com/library/view/generative-deep-learning/9781492041931/) by David Foster. The code here is inspired by both of those.\n",
        "\n",
        "The main idea is to use two Networks(Generator and Discriminator) to battle each other to see if one can generate an image that the other cannot percieve that is false.\n",
        "\n",
        "The generator, as the name suggests, generates images from noise to trick the discriminator to think they are true. This poses a question, how should you train a model with this structure. \n",
        "\n",
        "What they proposed on the article is to separate the training into two parts, training each one separately. The trainin steps are:\n",
        "\n",
        "- 1) To train the discriminator, we feed both fake and true images, labelling 0 and 1, thus we train the discriminator to output near 0 for fake images and 1 for true images.\n",
        "\n",
        "- 2) To train the generator, we feed the output of the generator into the discriminator and force them to be 1 for the generator.\n",
        "\n",
        "Thus to train the GAN is just to follow those two steps for a desired number of epochs.\n",
        "\n",
        "Let's see how this is done in Keras."
      ]
    },
    {
      "cell_type": "markdown",
      "metadata": {
        "id": "lo9RmrQuS0T3",
        "colab_type": "text"
      },
      "source": [
        "## 0) Importing Dependencies"
      ]
    },
    {
      "cell_type": "code",
      "metadata": {
        "id": "8nUnJsrZ6Ybv",
        "colab_type": "code",
        "colab": {}
      },
      "source": [
        "import numpy as np\n",
        "import tensorflow as tf\n",
        "from tensorflow import keras\n",
        "from tensorflow.keras import layers"
      ],
      "execution_count": 0,
      "outputs": []
    },
    {
      "cell_type": "markdown",
      "metadata": {
        "id": "KHBM3IB8RYmY",
        "colab_type": "text"
      },
      "source": [
        "## 1) Building the generator\n",
        "\n",
        "The role of the generator is to generate images through sampling from a random distribution. "
      ]
    },
    {
      "cell_type": "code",
      "metadata": {
        "id": "ZFZTW_Pm88-J",
        "colab_type": "code",
        "colab": {}
      },
      "source": [
        "def build_generator(latent_dim, generator_initial_layer_size,\n",
        "                    generator_conv_filters, \n",
        "                    generator_conv_kernel_size,\n",
        "                    generator_dropout_rate=None,\n",
        "                    generator_batch_norm_momentum=None):\n",
        "  \"\"\" Build the GAN Generator without compiling.\n",
        "\n",
        "  Parameters\n",
        "  ------------------------------------------------------------------------------\n",
        "\n",
        "  latent_dim(int): Latent Dimension.\n",
        "  generator_initial_layer_size(list): The layer size of the image including \n",
        "  channels. Ex. [28,28,1]\n",
        "  n_layers_generator(int): Number of convolutional layers on generator.\n",
        "\n",
        "  \"\"\"\n",
        "  n_layers_generator = len(generator_conv_filters)\n",
        "  \n",
        "  assert n_layers_generator == len(generator_conv_kernel_size), ( \n",
        "         'Convolutional Kernel size should have the same length'\n",
        "         + 'as convolutional filters')\n",
        "\n",
        "  assert n_layers_generator == len(generator_conv_strides), ( \n",
        "         'Convolutional strides should have the same length'\n",
        "         + 'as convolutional filters')\n",
        "\n",
        "  generator_input = layers.Input(shape=(latent_dim,), name='Gen_Input')\n",
        "  x = generator_input\n",
        "  x = layers.Dense(np.prod(generator_initial_layer_size), name='Gen_Dense_0')(x)\n",
        "  \n",
        "  if generator_batch_norm_momentum:\n",
        "    x = layers.BatchNormalization(momentum = generator_batch_norm_momentum,\n",
        "                                  name='Gen_BatchNorm_0')(x)\n",
        "  \n",
        "  x = layers.LeakyReLU(alpha=0.2, name='Gen_LReLU_0')(x)\n",
        "  x = layers.Reshape(generator_initial_layer_size,\n",
        "                     name='Ge_Reshape_0')(x)\n",
        "\n",
        "  if generator_dropout_rate:\n",
        "    x = layers.Dropout(generator_dropout_rate,\n",
        "                       name='Gen_Dropout_0')(x)\n",
        "\n",
        "  for i in range(n_layers_generator):\n",
        "    x = layers.UpSampling2D(name=f'Gen_Upsampling_{i}')(x)\n",
        "    x = layers.Conv2D(\n",
        "        filters = generator_conv_filters[i],\n",
        "        kernel_size= generator_conv_kernel_size[i],\n",
        "        padding='same',\n",
        "        name = f'Gen_conv_{str(i)}'\n",
        "      )(x)\n",
        "\n",
        "    if i < n_layers_generator - 1:\n",
        "      if generator_batch_norm_momentum:\n",
        "        x = layers.BatchNormalization(momentum = generator_batch_norm_momentum,\n",
        "                                      name=f'Gen_BatchNorm_{i+1}')(x)\n",
        "      x = layers.LeakyReLU(alpha=0.2, name=f'Gen_LReLU_{i+1}')(x)\n",
        "    \n",
        "    else: #last layer\n",
        "      x = layers.Activation('tanh', name='Gen_Activation_tanh')(x)\n",
        "\n",
        "  generator_output = x\n",
        "  \n",
        "  return keras.models.Model(generator_input, generator_output, name='Generator')"
      ],
      "execution_count": 0,
      "outputs": []
    },
    {
      "cell_type": "markdown",
      "metadata": {
        "id": "SjJK9mNIbz6e",
        "colab_type": "text"
      },
      "source": [
        "## 2) Building the discriminator\n",
        "\n",
        "For the discriminator we build a simple Fully Convolutional Nework (FCN) the input of the network is the image that you want to evaluate if it is real or fake. "
      ]
    },
    {
      "cell_type": "code",
      "metadata": {
        "id": "S_PLG2o-b-nT",
        "colab_type": "code",
        "colab": {}
      },
      "source": [
        "def build_discriminator(input_dim, discriminator_conv_filters,\n",
        "                        discriminator_conv_kernel_size,\n",
        "                        discriminator_conv_strides,\n",
        "                        weight_init= keras.initializers.RandomNormal(mean=0., stddev=0.02),\n",
        "                        discriminator_dropout_rate=None,\n",
        "                        discriminator_batch_norm_momentum=None):\n",
        "  \"\"\" Build the GAN Discriminator without compiling.\n",
        "\n",
        "  Parameters\n",
        "  ------------------------------------------------------------------------------\n",
        "\n",
        "  input_dim(tuple): Latent Dimension.\n",
        "  generator_initial_layer_size(list): The layer size of the image including \n",
        "  channels. Ex. [16,16,1]\n",
        "  n_layers_generator(int): Number of convolutional layers on generator.\n",
        "\n",
        "  \"\"\"\n",
        "  n_layers_discriminator = len(discriminator_conv_filters)\n",
        "  assert n_layers_discriminator == len(discriminator_conv_kernel_size), ( \n",
        "         'Convolutional Kernel size should have the same length'\n",
        "         + 'as convolutional filters')\n",
        "\n",
        "  assert n_layers_discriminator == len(discriminator_conv_strides), ( \n",
        "         'Convolutional strides should have the same length'\n",
        "         + 'as convolutional filters')\n",
        "\n",
        "  discriminator_input = layers.Input(shape=input_dim, name='Disc_input')\n",
        "  x = discriminator_input\n",
        "\n",
        "  for i in range(n_layers_discriminator):\n",
        "    x = layers.Conv2D(\n",
        "        filters=discriminator_conv_filters[i],\n",
        "        kernel_size=discriminator_conv_kernel_size[i],\n",
        "        strides=discriminator_conv_strides[i],\n",
        "        padding='same',\n",
        "        name=f'Disc_conv_{i}'\n",
        "        )(x)\n",
        "    \n",
        "    if discriminator_batch_norm_momentum and i>0:\n",
        "      x = layers.BatchNormalization(momentum=discriminator_batch_norm_momentum,\n",
        "                                    name=f'Disc_BatchNorm_{i}')(x)\n",
        "    \n",
        "    x = layers.LeakyReLU(alpha=0.3,\n",
        "                         name=f'Disc_LeakyReLU_{i}')(x)\n",
        "    \n",
        "    if discriminator_dropout_rate:\n",
        "      x = layers.Dropout(rate=discriminator_dropout_rate,\n",
        "                         name=f'Disc_Dropout_{i}')(x)\n",
        "\n",
        "  x = layers.Flatten(name='Disc_Flatten')(x)\n",
        "  \n",
        "  x = layers.Dense(1, activation='sigmoid',\n",
        "                   kernel_initializer=weight_init,\n",
        "                   name='Disc_Output')(x)\n",
        "  \n",
        "  discriminator_output = x\n",
        "  \n",
        "  return keras.models.Model(discriminator_input, discriminator_output, name='Discriminator')"
      ],
      "execution_count": 0,
      "outputs": []
    },
    {
      "cell_type": "markdown",
      "metadata": {
        "id": "Mnl_3090b7bK",
        "colab_type": "text"
      },
      "source": [
        "## 3) Building the whole Model\n",
        "\n",
        "The main trick on the GAN is the training, for this we follow what is explained on the introduction training first the discriminator and then the generator for a desired amount of epochs.  \n",
        "\n",
        "For generating the GAN model, this code code is based on this [keras.io tutorial](https://keras.io/guides/customizing_what_happens_in_fit/)."
      ]
    },
    {
      "cell_type": "code",
      "metadata": {
        "id": "RrgOMLzW7H-F",
        "colab_type": "code",
        "colab": {}
      },
      "source": [
        "class GAN(keras.Model):\n",
        "  def __init__(self, discriminator, generator, latent_dim):\n",
        "    super(GAN, self).__init__()\n",
        "    self.discriminator = discriminator\n",
        "    self.generator = generator \n",
        "    self.latent_dim = latent_dim\n",
        "\n",
        "  def compile(self, d_optimizer, g_optimizer, loss_fn):\n",
        "    super(GAN,self).compile()\n",
        "    self.d_optimizer = d_optimizer\n",
        "    self.g_optimizer = g_optimizer\n",
        "    self.loss_fn = loss_fn\n",
        "  \n",
        "  def train_step(self, data):\n",
        "     \n",
        "    if isinstance(data, tuple):\n",
        "      data = data[0]\n",
        "    \n",
        "    batch_size = tf.shape(data)[0]\n",
        "    random_latent_vectors = tf.random.normal(shape=(batch_size,self.latent_dim),\n",
        "                                             name='Rand_Latent_Vectors')\n",
        "    \n",
        "    #Generate fake images\n",
        "    gen_images = self.generator(random_latent_vectors)\n",
        "\n",
        "    #Combining fake and real images\n",
        "    combined_images = tf.concat([gen_images, data],\n",
        "                                axis=0)\n",
        "    \n",
        "    #Create labels for the images\n",
        "    labels = tf.concat([tf.ones((batch_size,1)), tf.zeros((batch_size,1))],\n",
        "                       axis=0)\n",
        "    \n",
        "    #Add noise to labels (?)\n",
        "    labels += 0.05*tf.random.uniform(tf.shape(labels))\n",
        "\n",
        "    #Training the discriminator\n",
        "    with tf.GradientTape() as tape:\n",
        "      predictions = self.discriminator(combined_images)\n",
        "      d_loss = self.loss_fn(labels, predictions)\n",
        "    grads = tape.gradient(d_loss, self.discriminator.trainable_weights)\n",
        "    self.d_optimizer.apply_gradients(\n",
        "        zip(grads, self.discriminator.trainable_weights)\n",
        "      )\n",
        "    \n",
        "    #Sample points on the latent space \n",
        "    random_latent_vectors = tf.random.normal(shape=(batch_size,self.latent_dim))\n",
        "\n",
        "    #Force all images to be \"real\"\n",
        "    forced_labels = tf.zeros(shape=(batch_size,1))\n",
        "\n",
        "    #Training generator\n",
        "    with tf.GradientTape() as tape:\n",
        "      predictions = self.discriminator(self.generator(random_latent_vectors))\n",
        "      g_loss = self.loss_fn(forced_labels, predictions)\n",
        "    grads = tape.gradient(g_loss, self.generator.trainable_weights)\n",
        "    self.g_optimizer.apply_gradients(\n",
        "        zip(grads, self.generator.trainable_weights)\n",
        "    )\n",
        "    return {\"d_loss\": d_loss, \"g_loss\":g_loss}\n",
        "  \n",
        "  def generate(self, n_samples):\n",
        "    \n",
        "    #Sample points on the latent space \n",
        "    random_latent_vectors = tf.random.normal(shape=(n_samples,self.latent_dim))\n",
        "    predictions = self.generator(random_latent_vectors)\n",
        "    \n",
        "    return predictions"
      ],
      "execution_count": 0,
      "outputs": []
    },
    {
      "cell_type": "markdown",
      "metadata": {
        "id": "ouYJLw7x4BAZ",
        "colab_type": "text"
      },
      "source": [
        "## 4) Data\n",
        "\n",
        "For our example we will use MNIST images. "
      ]
    },
    {
      "cell_type": "code",
      "metadata": {
        "id": "Md2hnsaM4B8_",
        "colab_type": "code",
        "colab": {}
      },
      "source": [
        "batch_size = 128\n",
        "(x_train, _), (x_test, _) = keras.datasets.mnist.load_data()\n",
        "all_digits = np.concatenate([x_train, x_test])\n",
        "all_digits = all_digits.astype('float32') / 255.\n",
        "all_digits = np.reshape(all_digits, (-1, 28, 28, 1))\n",
        "dataset = tf.data.Dataset.from_tensor_slices(all_digits)\n",
        "dataset = dataset.shuffle(buffer_size=1024).batch(batch_size)"
      ],
      "execution_count": 0,
      "outputs": []
    },
    {
      "cell_type": "markdown",
      "metadata": {
        "id": "xj2XyVAlLUL1",
        "colab_type": "text"
      },
      "source": [
        "Initializing the generator and discriminator\n",
        "\n",
        "It is interesting to note that your discriminator must have the same output as your image and every Upsampling layer grows by a factor of two."
      ]
    },
    {
      "cell_type": "code",
      "metadata": {
        "id": "nNGNiBy-7bcl",
        "colab_type": "code",
        "colab": {}
      },
      "source": [
        "# Generator Parameters\n",
        "latent_dimension = 100\n",
        "gen_initial_layer_size = (7,7,128)\n",
        "gen_conv_filters = [128, 1]\n",
        "gen_conv_kernel_size = [2, 1]\n",
        "gen_dropout_rate = None\n",
        "gen_batch_norm_momentum = 0.9\n",
        "\n",
        "# Discriminator Parameters\n",
        "input_dimension = all_digits.shape[1:]\n",
        "disc_conv_filters = [8, 16, 32]\n",
        "disc_conv_kernel_size = [3, 3, 3]\n",
        "disc_conv_strides = [2, 2, 2]\n",
        "disc_dropout_rate = None\n",
        "disc_batch_norm_momentum = 0.9\n",
        "\n",
        "gen = build_generator(latent_dim=latent_dimension, \n",
        "                    generator_initial_layer_size=gen_initial_layer_size, \n",
        "                    generator_conv_filters=gen_conv_filters, \n",
        "                    generator_conv_kernel_size=gen_conv_kernel_size, \n",
        "                    generator_dropout_rate=gen_dropout_rate, \n",
        "                    generator_batch_norm_momentum=gen_batch_norm_momentum)\n",
        "\n",
        "\n",
        "disc = build_discriminator(input_dim=input_dimension, \n",
        "                        discriminator_conv_filters=disc_conv_filters, \n",
        "                        discriminator_conv_kernel_size=disc_conv_kernel_size, \n",
        "                        discriminator_conv_strides=disc_conv_strides, \n",
        "                        discriminator_dropout_rate=disc_dropout_rate, \n",
        "                        discriminator_batch_norm_momentum=disc_batch_norm_momentum)\n",
        "\n",
        "#gen.summary()\n",
        "#disc.summary()"
      ],
      "execution_count": 0,
      "outputs": []
    },
    {
      "cell_type": "code",
      "metadata": {
        "id": "SbseFh9eHpYp",
        "colab_type": "code",
        "colab": {}
      },
      "source": [
        "gan = GAN(discriminator=disc,\n",
        "          generator=gen,\n",
        "          latent_dim=latent_dimension)\n",
        "\n",
        "gan.compile(\n",
        "  d_optimizer=keras.optimizers.Adam(learning_rate=0.0003), \n",
        "  g_optimizer=keras.optimizers.Adam(learning_rate=0.0004),\n",
        "  loss_fn=keras.losses.BinaryCrossentropy(from_logits=True)\n",
        "  )"
      ],
      "execution_count": 0,
      "outputs": []
    },
    {
      "cell_type": "code",
      "metadata": {
        "id": "taDjhLEA10yI",
        "colab_type": "code",
        "colab": {}
      },
      "source": [
        "from IPython.display import clear_output\n",
        "\n",
        "class DisplayCallback(tf.keras.callbacks.Callback):\n",
        "  \"\"\" Callback to show images at the end of each epoch\n",
        "  \"\"\"\n",
        "  def on_epoch_end(self, epoch, logs=None):\n",
        "    clear_output(wait=True)\n",
        "    show_predictions()\n",
        "    print ('\\nGenerated images after epoch {}\\n'.format(epoch+1))\n",
        "\n",
        "def show_predictions(n_to_show): \n",
        "  \"\"\" Helper function fo show data generated by the GAN.\n",
        "  \n",
        "  Parameters\n",
        "  -----------------------------------------------------------------------------\n",
        "  n_to_show(int): Number of showed images.\n",
        "\n",
        "  \"\"\"   \n",
        "  G = gan.generate(n_to_show)\n",
        "  plt.figure(figsize=(20, 20))\n",
        "  for i in range(n_to_show):\n",
        "\n",
        "    plt.subplot(1, n_to_show, i+1)\n",
        "    plt.imshow(G[i,:,:,0], vmin=0, vmax=1, cmap=\"gray\")    \n",
        "    plt.axis('off')        \n",
        "  plt.tight_layout()\n",
        "  plt.show()"
      ],
      "execution_count": 0,
      "outputs": []
    },
    {
      "cell_type": "code",
      "metadata": {
        "id": "UZdGEJSCLsBR",
        "colab_type": "code",
        "colab": {
          "base_uri": "https://localhost:8080/",
          "height": 232
        },
        "outputId": "6d3c5d62-b9b9-4347-81d3-ffaa1120ff0b"
      },
      "source": [
        "history = gan.fit(dataset, epochs=10,\n",
        "                  callbacks=[DisplayCallback()])"
      ],
      "execution_count": 37,
      "outputs": [
        {
          "output_type": "display_data",
          "data": {
            "image/png": "[encoded data removed]",
            "text/plain": [
              "<Figure size 1440x1440 with 10 Axes>"
            ]
          },
          "metadata": {
            "tags": [],
            "needs_background": "light"
          }
        },
        {
          "output_type": "stream",
          "text": [
            "\n",
            "Sample Prediction after epoch 10\n",
            "\n",
            "\b\b\b\b\b\b\b\b\b\b\b\b\b\b\b\b\b\b\b\b\b\b\b\b\b\b\b\b\b\b\b\b\b\b\b\b\b\b\b\b\b\b\b\b\b\b\b\b\b\b\b\b\b\b\b\b\b\b\b\b\b\b\b\b\b\b\b\b\b\b\b\b\b\b\b\b\b\b\b\b\b\b\b\b\r547/547 [==============================] - 12s 23ms/step - d_loss: 0.6931 - g_loss: 0.6931\n"
          ],
          "name": "stdout"
        }
      ]
    },
    {
      "cell_type": "code",
      "metadata": {
        "id": "R8FKgtBZx0So",
        "colab_type": "code",
        "colab": {
          "base_uri": "https://localhost:8080/",
          "height": 278
        },
        "outputId": "3eead0c9-7057-4395-cc62-0eae0ac30ad8"
      },
      "source": [
        "%matplotlib inline\n",
        "import matplotlib.pyplot as plt\n",
        "\n",
        "history = history.history\n",
        "g_loss = np.array(history['g_loss'])\n",
        "d_loss = np.array(history['d_loss'])\n",
        "epochs = range(len(d_loss))\n",
        "\n",
        "plt.plot(epochs, g_loss, label='Generator Loss')\n",
        "plt.plot(epochs, d_loss, label='Discriminator Loss')\n",
        "plt.plot(epochs, g_loss + d_loss, label='Total Loss')\n",
        "plt.xlabel('Epochs')\n",
        "plt.ylabel('Loss')\n",
        "plt.legend()\n",
        "plt.show()\n"
      ],
      "execution_count": 38,
      "outputs": [
        {
          "output_type": "display_data",
          "data": {
            "image/png": "[encoded data removed]",
            "text/plain": [
              "<Figure size 432x288 with 1 Axes>"
            ]
          },
          "metadata": {
            "tags": [],
            "needs_background": "light"
          }
        }
      ]
    }
  ]
}